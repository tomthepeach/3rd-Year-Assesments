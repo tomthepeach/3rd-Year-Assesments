{
 "cells": [
  {
   "cell_type": "code",
   "execution_count": 2,
   "metadata": {},
   "outputs": [
    {
     "name": "stdout",
     "output_type": "stream",
     "text": [
      "10\n"
     ]
    }
   ],
   "source": [
    "class A:\n",
    "    def give_A_a_number(self):\n",
    "        self.number = 10\n",
    "\n",
    "\n",
    "instance = A()\n",
    "\n",
    "instance.give_A_a_number()\n",
    "\n",
    "print (instance.number)\n"
   ]
  },
  {
   "cell_type": "code",
   "execution_count": 9,
   "metadata": {},
   "outputs": [
    {
     "data": {
      "text/plain": [
       "3"
      ]
     },
     "execution_count": 9,
     "metadata": {},
     "output_type": "execute_result"
    }
   ],
   "source": [
    "class Solution:\n",
    "\n",
    "    def find_triplets(input):\n",
    "        triplets_found = 0\n",
    "        index = 0\n",
    "\n",
    "        while index < len(input)-2:\n",
    "            n = input[index]\n",
    "            if n == input [index+1] and n == input[index+2]:\n",
    "                triplets_found += 1\n",
    "                index += 3\n",
    "            else:\n",
    "                index+= 1\n",
    "\n",
    "        return triplets_found\n",
    "\n",
    "\n",
    "\n",
    "Solution.find_triplets([2,2,2,2,2,2,3,3,4,2,2,2])"
   ]
  },
  {
   "cell_type": "code",
   "execution_count": null,
   "metadata": {},
   "outputs": [],
   "source": []
  }
 ],
 "metadata": {
  "kernelspec": {
   "display_name": "Python 3.9.7 ('base')",
   "language": "python",
   "name": "python3"
  },
  "language_info": {
   "codemirror_mode": {
    "name": "ipython",
    "version": 3
   },
   "file_extension": ".py",
   "mimetype": "text/x-python",
   "name": "python",
   "nbconvert_exporter": "python",
   "pygments_lexer": "ipython3",
   "version": "3.9.7"
  },
  "orig_nbformat": 4,
  "vscode": {
   "interpreter": {
    "hash": "ad2bdc8ecc057115af97d19610ffacc2b4e99fae6737bb82f5d7fb13d2f2c186"
   }
  }
 },
 "nbformat": 4,
 "nbformat_minor": 2
}
