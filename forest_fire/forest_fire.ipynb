{
 "cells": [
  {
   "cell_type": "markdown",
   "metadata": {},
   "source": [
    "# Python Version of the Forest Fire Model"
   ]
  },
  {
   "cell_type": "markdown",
   "metadata": {},
   "source": [
    "This cell contains a simple python implementation of the forest fire model, as described in the week 9 video.\n",
    "\n",
    "The variables in the cell below are the two main parameters of the model, which can be adjusted, as well as the random seed which is used to initialise the random number generator."
   ]
  },
  {
   "cell_type": "code",
   "execution_count": 5,
   "metadata": {},
   "outputs": [],
   "source": [
    "import random\n",
    "\n",
    "# define the size of the (square) grid, and the probability of filling a grid point with a tree\n",
    "N = 10\n",
    "p = 0.6\n",
    "\n",
    "# initialise the random number generator using a fixed seed for reproducibility\n",
    "seed = 42\n",
    "random.seed(seed)"
   ]
  },
  {
   "cell_type": "markdown",
   "metadata": {},
   "source": [
    "The cell below contains the implementation of the model.\n",
    "\n",
    "Recall that each point on the grid represents a possible site for a tree:\n",
    "- 0: no tree\n",
    "- 1: tree is alive\n",
    "- 2: tree is burning\n",
    "- 3: tree is burnt"
   ]
  },
  {
   "cell_type": "code",
   "execution_count": 6,
   "metadata": {
    "scrolled": false
   },
   "outputs": [
    {
     "name": "stdout",
     "output_type": "stream",
     "text": [
      "Fire burned out after 17 steps\n",
      "Total time taken = 0.00 s\n"
     ]
    }
   ],
   "source": [
    "from copy import deepcopy\n",
    "import time\n",
    "\n",
    "# start the timer\n",
    "t0 = time.time()\n",
    "\n",
    "# we want 2 grids - the currently active one, and the one from the previous time step\n",
    "# we call those grid_new and grid_old\n",
    "grid_new = []\n",
    "grid_old = []\n",
    "\n",
    "# randomly fill the initial grid with live trees, using probability p\n",
    "for i in range(N):\n",
    "    grid_old.append([])\n",
    "    \n",
    "    for j in range(N):\n",
    "        # generate a random floating point number between 0 and 1\n",
    "        rn = random.random()\n",
    "      \n",
    "        # if the random number is less than our probability p, we fill the site with a tree\n",
    "        if (rn <= p):\n",
    "            grid_old[i].append(1)\n",
    "        # otherwise, the site remains empty\n",
    "        else:\n",
    "            grid_old[i].append(0)\n",
    "\n",
    "# set the top row of trees on fire\n",
    "for i in range(N):\n",
    "    if (grid_old[0][i] == 1):\n",
    "        grid_old[0][i] = 2\n",
    "\n",
    "# initialise the new grid to an empty array\n",
    "grid_new = [[0 for i in range(N)] for j in range(N)]\n",
    "\n",
    "# save the complete set of grids - this is only needed so that we can visualise the simulation at the end\n",
    "all_grids = [grid_old]\n",
    "\n",
    "# loop over time - this loop will continue until there are no more burning trees\n",
    "t = 0\n",
    "burning = True\n",
    "while burning:\n",
    "  \n",
    "    # assume nothing is burning unless we find otherwise below\n",
    "    burning = False\n",
    "\n",
    "    # loop over grid points\n",
    "    for i in range(N):\n",
    "        for j in range(N):\n",
    "            \n",
    "            # first check if this is a previously burning tree, which should change from burning (2) to burnt (3)\n",
    "            if (grid_old[i][j] == 2):\n",
    "                grid_new[i][j] = 3\n",
    "                # modify the loop control variable at the same time\n",
    "                burning = True\n",
    "        \n",
    "            # now check whether this tree is alive\n",
    "            elif (grid_old[i][j] == 1):\n",
    "                # in this case, we need to check the status of its neighbours, \n",
    "                # paying attention to whether or not we are at the edge\n",
    "                # we first set each variable to false, to cover the case where we are at the edge of the cell\n",
    "                left_burning = False\n",
    "                if (j > 0):\n",
    "                    left_burning = (grid_old[i][j-1] == 2)\n",
    "            \n",
    "                right_burning = False\n",
    "                if (j < N-1):\n",
    "                    right_burning = (grid_old[i][j+1] == 2)\n",
    "          \n",
    "                below_burning = False\n",
    "                if (i < N-1):\n",
    "                    below_burning = (grid_old[i+1][j] == 2)\n",
    "          \n",
    "                above_burning = False\n",
    "                if (i > 0):\n",
    "                    above_burning = (grid_old[i-1][j] == 2)\n",
    "          \n",
    "                # if any of the neighbours are burning, set this tree on fire\n",
    "                if (left_burning or right_burning or above_burning or below_burning):\n",
    "                    grid_new[i][j] = 2\n",
    "                else:\n",
    "                    grid_new[i][j] = 1\n",
    "        \n",
    "            # if there is no tree or it is already burnt, the status remains the same\n",
    "            else:\n",
    "                grid_new[i][j] = grid_old[i][j]\n",
    "        \n",
    "    # increase the time counter\n",
    "    t += 1\n",
    "    \n",
    "    # save a copy of the grid for plotting\n",
    "    all_grids.append(deepcopy(grid_new))\n",
    "    \n",
    "    # the current grid will become the old grid in the next step\n",
    "    grid_old = deepcopy(grid_new)\n",
    "    \n",
    "print(\"Fire burned out after \"+str(t)+\" steps\")\n",
    "\n",
    "# end timer\n",
    "t1 = time.time()\n",
    "total = t1 - t0\n",
    "print (f\"Total time taken = {total} s\")"
   ]
  },
  {
   "cell_type": "markdown",
   "metadata": {},
   "source": [
    "This cell contains a simple animation of the model."
   ]
  },
  {
   "cell_type": "code",
   "execution_count": 1,
   "metadata": {
    "scrolled": false
   },
   "outputs": [
    {
     "ename": "NameError",
     "evalue": "name 'N' is not defined",
     "output_type": "error",
     "traceback": [
      "\u001b[0;31m---------------------------------------------------------------------------\u001b[0m",
      "\u001b[0;31mNameError\u001b[0m                                 Traceback (most recent call last)",
      "\u001b[0;32m/tmp/ipykernel_47107/3197618780.py\u001b[0m in \u001b[0;36m<module>\u001b[0;34m\u001b[0m\n\u001b[1;32m     21\u001b[0m \u001b[0max\u001b[0m\u001b[0;34m.\u001b[0m\u001b[0mget_xaxis\u001b[0m\u001b[0;34m(\u001b[0m\u001b[0;34m)\u001b[0m\u001b[0;34m.\u001b[0m\u001b[0mset_ticks\u001b[0m\u001b[0;34m(\u001b[0m\u001b[0;34m[\u001b[0m\u001b[0;34m]\u001b[0m\u001b[0;34m)\u001b[0m\u001b[0;34m\u001b[0m\u001b[0;34m\u001b[0m\u001b[0m\n\u001b[1;32m     22\u001b[0m \u001b[0max\u001b[0m\u001b[0;34m.\u001b[0m\u001b[0mget_yaxis\u001b[0m\u001b[0;34m(\u001b[0m\u001b[0;34m)\u001b[0m\u001b[0;34m.\u001b[0m\u001b[0mset_ticks\u001b[0m\u001b[0;34m(\u001b[0m\u001b[0;34m[\u001b[0m\u001b[0;34m]\u001b[0m\u001b[0;34m)\u001b[0m\u001b[0;34m\u001b[0m\u001b[0;34m\u001b[0m\u001b[0m\n\u001b[0;32m---> 23\u001b[0;31m \u001b[0mplt\u001b[0m\u001b[0;34m.\u001b[0m\u001b[0mtitle\u001b[0m\u001b[0;34m(\u001b[0m\u001b[0;34m'Forest Fire Model for $N$='\u001b[0m\u001b[0;34m+\u001b[0m\u001b[0mstr\u001b[0m\u001b[0;34m(\u001b[0m\u001b[0mN\u001b[0m\u001b[0;34m)\u001b[0m\u001b[0;34m+\u001b[0m\u001b[0;34m', $p$='\u001b[0m\u001b[0;34m+\u001b[0m\u001b[0mstr\u001b[0m\u001b[0;34m(\u001b[0m\u001b[0mp\u001b[0m\u001b[0;34m)\u001b[0m\u001b[0;34m+\u001b[0m\u001b[0;34m'\\n and random seed='\u001b[0m\u001b[0;34m+\u001b[0m\u001b[0mstr\u001b[0m\u001b[0;34m(\u001b[0m\u001b[0mseed\u001b[0m\u001b[0;34m)\u001b[0m\u001b[0;34m)\u001b[0m\u001b[0;34m\u001b[0m\u001b[0;34m\u001b[0m\u001b[0m\n\u001b[0m\u001b[1;32m     24\u001b[0m \u001b[0;34m\u001b[0m\u001b[0m\n\u001b[1;32m     25\u001b[0m \u001b[0;31m# display the saved grid from each time step\u001b[0m\u001b[0;34m\u001b[0m\u001b[0;34m\u001b[0m\u001b[0m\n",
      "\u001b[0;31mNameError\u001b[0m: name 'N' is not defined"
     ]
    },
    {
     "data": {
      "image/png": "[encoded data removed]",
      "text/plain": [
       "<Figure size 432x432 with 1 Axes>"
      ]
     },
     "metadata": {},
     "output_type": "display_data"
    }
   ],
   "source": [
    "# %matplotlib notebook\n",
    "\n",
    "import matplotlib.pyplot as plt\n",
    "plt.rcParams.update({'font.size': 16})\n",
    "\n",
    "# function to display the grid of trees\n",
    "def plot_grid(ax, grid):\n",
    "    import numpy as np\n",
    "    \n",
    "    # define the colour palette\n",
    "    palette = np.array([[255, 255, 255], # white - no tree\n",
    "                        [0, 255, 0], # green - living tree\n",
    "                        [255, 0, 0], # red - burning tree\n",
    "                        [0, 0, 0]]) # black - burnt tree\n",
    "\n",
    "    RGB = palette[np.array(grid)]\n",
    "    ax.imshow(RGB)\n",
    "    fig.canvas.draw()\n",
    "\n",
    "fig, ax = plt.subplots(1, 1, figsize=(6, 6))\n",
    "ax.get_xaxis().set_ticks([])\n",
    "ax.get_yaxis().set_ticks([])\n",
    "plt.title('Forest Fire Model for $N$='+str(N)+', $p$='+str(p)+'\\n and random seed='+str(seed))\n",
    "\n",
    "# display the saved grid from each time step\n",
    "for grid in all_grids:\n",
    "    plot_grid(ax, grid)\n",
    "    # pause to allow the plot to load - this parameter enables you to adjust the speed of the animation\n",
    "    time.sleep(1)"
   ]
  },
  {
   "cell_type": "code",
   "execution_count": null,
   "metadata": {},
   "outputs": [],
   "source": []
  },
  {
   "cell_type": "code",
   "execution_count": null,
   "metadata": {},
   "outputs": [],
   "source": []
  },
  {
   "cell_type": "code",
   "execution_count": null,
   "metadata": {},
   "outputs": [],
   "source": []
  },
  {
   "cell_type": "code",
   "execution_count": null,
   "metadata": {},
   "outputs": [],
   "source": []
  }
 ],
 "metadata": {
  "kernelspec": {
   "display_name": "base",
   "language": "python",
   "name": "python3"
  },
  "language_info": {
   "codemirror_mode": {
    "name": "ipython",
    "version": 3
   },
   "file_extension": ".py",
   "mimetype": "text/x-python",
   "name": "python",
   "nbconvert_exporter": "python",
   "pygments_lexer": "ipython3",
   "version": "3.9.7 (default, Sep 16 2021, 13:09:58) \n[GCC 7.5.0]"
  },
  "vscode": {
   "interpreter": {
    "hash": "35455d277cc69279d69bd3d2fff07608906c78ad9fde0fa493e6ee7e737d810e"
   }
  }
 },
 "nbformat": 4,
 "nbformat_minor": 4
}
